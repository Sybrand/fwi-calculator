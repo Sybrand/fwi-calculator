{
 "cells": [
  {
   "cell_type": "code",
   "execution_count": 10,
   "metadata": {},
   "outputs": [
    {
     "name": "stdout",
     "output_type": "stream",
     "text": [
      "Observed Conditions @ Noon Today\n",
      "Month (1-12): 7\n",
      "FFMC: 91.2\n",
      "DMC: 48\n",
      "DC: 416.1\n"
     ]
    }
   ],
   "source": [
    "print('Observed Conditions @ Noon Today')\n",
    "mth = 7\n",
    "print('Month (1-12): {}'.format(mth))\n",
    "# FFMC\n",
    "ffmc0 = 91.2\n",
    "print('FFMC: {}'.format(ffmc0))\n",
    "# DMC\n",
    "dmc0 = 48\n",
    "print('DMC: {}'.format(dmc0))\n",
    "# DC\n",
    "dc0 = 416.1\n",
    "print('DC: {}'.format(dc0))"
   ]
  },
  {
   "cell_type": "code",
   "execution_count": 2,
   "metadata": {},
   "outputs": [
    {
     "name": "stdout",
     "output_type": "stream",
     "text": [
      "Forecast Conditions @ Noon Tomorrow\n",
      "24 hr Precipitation (mm) : 0\n",
      "Temperature ( C): 32.7\n",
      "RH: 53\n",
      "Wind (km/h): 18\n"
     ]
    }
   ],
   "source": [
    "print('Forecast Conditions @ Noon Tomorrow')\n",
    "# 24 hr Precipitation (mm)\n",
    "prcp = 0\n",
    "print('24 hr Precipitation (mm) : {}'.format(prcp))\n",
    "# Temperature ( C)\n",
    "temp = 32.7\n",
    "print('Temperature ( C): {}'.format(temp))\n",
    "# RH (%)\n",
    "rhum = 53\n",
    "print('RH: {}'.format(rhum))\n",
    "# Wind (km/h)\n",
    "wind = 18\n",
    "print('Wind (km/h): {}'.format(wind))"
   ]
  },
  {
   "cell_type": "code",
   "execution_count": 3,
   "metadata": {},
   "outputs": [
    {
     "name": "stdout",
     "output_type": "stream",
     "text": [
      "Tomorrows FWI Values\n"
     ]
    }
   ],
   "source": [
    "# Tomorrow's FWI Values\n",
    "print('Tomorrow''s FWI Values')\n",
    "from fwi import FWICLASS\n",
    "\n",
    "if rhum > 100.0:\n",
    "    rhum = 100.0\n",
    "\n",
    "fwisystem = FWICLASS(temp, rhum, wind, prcp)\n",
    "\n",
    "ffmc = fwisystem.FFMCcalc(ffmc0)\n",
    "dmc = fwisystem.DMCcalc(dmc0, mth)\n",
    "dc = fwisystem.DCcalc(dc0, mth)\n",
    "isi = fwisystem.ISIcalc(ffmc)\n",
    "bui = fwisystem.BUIcalc(dmc, dc)\n",
    "fwi = fwisystem.FWIcalc(isi, bui)\n"
   ]
  },
  {
   "cell_type": "code",
   "execution_count": 4,
   "metadata": {},
   "outputs": [
    {
     "name": "stdout",
     "output_type": "stream",
     "text": [
      "Using code from Updated source code for calcUlating fire danger indices in the canadian forest fire weather index system\n",
      "FFMC: 90.6090499597978\n",
      "DMC: 51.730922416\n",
      "DC: 425.69\n",
      "ISI: 11.585834594135768\n",
      "BUI: 79.35369266370215\n",
      "FWI: 31.054112442007952\n"
     ]
    }
   ],
   "source": [
    "print('Using code from Updated source code for calcUlating fire danger indices in the canadian forest fire weather index system')\n",
    "print('FFMC: {}'.format(ffmc))\n",
    "print('DMC: {}'.format(dmc))\n",
    "print('DC: {}'.format(dc))\n",
    "print('ISI: {}'.format(isi))\n",
    "print('BUI: {}'.format(bui))\n",
    "print('FWI: {}'.format(fwi))"
   ]
  },
  {
   "cell_type": "code",
   "execution_count": 5,
   "metadata": {},
   "outputs": [
    {
     "name": "stdout",
     "output_type": "stream",
     "text": [
      "DSR 11.901994590149096 (according to Equations and FORTRAN program for the Canadian Forest Fire Weather Index System. 1985)\n"
     ]
    }
   ],
   "source": [
    "import math\n",
    "\n",
    "dsr = 0.0272 * math.pow(fwi, 1.77)\n",
    "print('DSR {} (according to Equations and FORTRAN program for the Canadian Forest Fire Weather Index System. 1985)'.format(dsr))"
   ]
  }
 ],
 "metadata": {
  "kernelspec": {
   "display_name": "Python 3",
   "language": "python",
   "name": "python3"
  },
  "language_info": {
   "codemirror_mode": {
    "name": "ipython",
    "version": 3
   },
   "file_extension": ".py",
   "mimetype": "text/x-python",
   "name": "python",
   "nbconvert_exporter": "python",
   "pygments_lexer": "ipython3",
   "version": "3.8.1"
  }
 },
 "nbformat": 4,
 "nbformat_minor": 4
}
